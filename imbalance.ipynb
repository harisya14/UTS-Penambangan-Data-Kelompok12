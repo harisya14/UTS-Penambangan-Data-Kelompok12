{
 "cells": [
  {
   "cell_type": "code",
   "execution_count": 12,
   "metadata": {},
   "outputs": [
    {
     "name": "stdout",
     "output_type": "stream",
     "text": [
      "Requirement already satisfied: pandas in c:\\users\\asus\\miniconda3\\envs\\myenv\\lib\\site-packages (2.3.3)Note: you may need to restart the kernel to use updated packages.\n",
      "\n",
      "Requirement already satisfied: numpy>=1.22.4 in c:\\users\\asus\\miniconda3\\envs\\myenv\\lib\\site-packages (from pandas) (2.2.5)\n",
      "Requirement already satisfied: python-dateutil>=2.8.2 in c:\\users\\asus\\miniconda3\\envs\\myenv\\lib\\site-packages (from pandas) (2.9.0.post0)\n",
      "Requirement already satisfied: pytz>=2020.1 in c:\\users\\asus\\miniconda3\\envs\\myenv\\lib\\site-packages (from pandas) (2025.2)\n",
      "Requirement already satisfied: tzdata>=2022.7 in c:\\users\\asus\\miniconda3\\envs\\myenv\\lib\\site-packages (from pandas) (2025.2)\n",
      "Requirement already satisfied: six>=1.5 in c:\\users\\asus\\miniconda3\\envs\\myenv\\lib\\site-packages (from python-dateutil>=2.8.2->pandas) (1.17.0)\n"
     ]
    }
   ],
   "source": [
    "%pip install pandas"
   ]
  },
  {
   "cell_type": "code",
   "execution_count": 13,
   "metadata": {},
   "outputs": [
    {
     "name": "stdout",
     "output_type": "stream",
     "text": [
      "Requirement already satisfied: matplotlib in c:\\users\\asus\\miniconda3\\envs\\myenv\\lib\\site-packages (3.10.7)Note: you may need to restart the kernel to use updated packages.\n",
      "\n",
      "Requirement already satisfied: seaborn in c:\\users\\asus\\miniconda3\\envs\\myenv\\lib\\site-packages (0.13.2)\n",
      "Requirement already satisfied: contourpy>=1.0.1 in c:\\users\\asus\\miniconda3\\envs\\myenv\\lib\\site-packages (from matplotlib) (1.3.2)\n",
      "Requirement already satisfied: cycler>=0.10 in c:\\users\\asus\\miniconda3\\envs\\myenv\\lib\\site-packages (from matplotlib) (0.12.1)\n",
      "Requirement already satisfied: fonttools>=4.22.0 in c:\\users\\asus\\miniconda3\\envs\\myenv\\lib\\site-packages (from matplotlib) (4.60.1)\n",
      "Requirement already satisfied: kiwisolver>=1.3.1 in c:\\users\\asus\\miniconda3\\envs\\myenv\\lib\\site-packages (from matplotlib) (1.4.9)\n",
      "Requirement already satisfied: numpy>=1.23 in c:\\users\\asus\\miniconda3\\envs\\myenv\\lib\\site-packages (from matplotlib) (2.2.5)\n",
      "Requirement already satisfied: packaging>=20.0 in c:\\users\\asus\\miniconda3\\envs\\myenv\\lib\\site-packages (from matplotlib) (25.0)\n",
      "Requirement already satisfied: pillow>=8 in c:\\users\\asus\\miniconda3\\envs\\myenv\\lib\\site-packages (from matplotlib) (12.0.0)\n",
      "Requirement already satisfied: pyparsing>=3 in c:\\users\\asus\\miniconda3\\envs\\myenv\\lib\\site-packages (from matplotlib) (3.2.5)\n",
      "Requirement already satisfied: python-dateutil>=2.7 in c:\\users\\asus\\miniconda3\\envs\\myenv\\lib\\site-packages (from matplotlib) (2.9.0.post0)\n",
      "Requirement already satisfied: pandas>=1.2 in c:\\users\\asus\\miniconda3\\envs\\myenv\\lib\\site-packages (from seaborn) (2.3.3)\n",
      "Requirement already satisfied: pytz>=2020.1 in c:\\users\\asus\\miniconda3\\envs\\myenv\\lib\\site-packages (from pandas>=1.2->seaborn) (2025.2)\n",
      "Requirement already satisfied: tzdata>=2022.7 in c:\\users\\asus\\miniconda3\\envs\\myenv\\lib\\site-packages (from pandas>=1.2->seaborn) (2025.2)\n",
      "Requirement already satisfied: six>=1.5 in c:\\users\\asus\\miniconda3\\envs\\myenv\\lib\\site-packages (from python-dateutil>=2.7->matplotlib) (1.17.0)\n"
     ]
    }
   ],
   "source": [
    "%pip install matplotlib seaborn"
   ]
  },
  {
   "cell_type": "code",
   "execution_count": 14,
   "metadata": {},
   "outputs": [],
   "source": [
    "import pandas as pd\n",
    "import numpy as np\n",
    "import matplotlib.pyplot as plt\n",
    "import seaborn as sns\n",
    "from datetime import datetime\n",
    "\n",
    "%matplotlib inline"
   ]
  },
  {
   "cell_type": "code",
   "execution_count": 15,
   "metadata": {},
   "outputs": [],
   "source": [
    "plt.style.use('seaborn-v0_8')\n",
    "sns.set_palette(\"Set2\")\n",
    "pd.set_option('display.max_columns', None)"
   ]
  },
  {
   "cell_type": "code",
   "execution_count": 16,
   "metadata": {},
   "outputs": [
    {
     "name": "stderr",
     "output_type": "stream",
     "text": [
      "C:\\Users\\ASUS\\AppData\\Local\\Temp\\ipykernel_19232\\4122221870.py:1: DtypeWarning: Columns (6) have mixed types. Specify dtype option on import or set low_memory=False.\n",
      "  df_transaksi = pd.read_csv(\"pembelian.csv\", sep=';', encoding='utf-8')\n"
     ]
    }
   ],
   "source": [
    "df_transaksi = pd.read_csv(\"pembelian.csv\", sep=';', encoding='utf-8')\n",
    "df_stok = pd.read_csv(\"stok.csv\", sep=';', encoding='utf-8')"
   ]
  },
  {
   "cell_type": "code",
   "execution_count": 17,
   "metadata": {},
   "outputs": [
    {
     "name": "stdout",
     "output_type": "stream",
     "text": [
      "✅ Data transaksi: (138364, 8)\n",
      "✅ Data stok: (1517, 5)\n"
     ]
    }
   ],
   "source": [
    "print(\"✅ Data transaksi:\", df_transaksi.shape)\n",
    "print(\"✅ Data stok:\", df_stok.shape)"
   ]
  },
  {
   "cell_type": "code",
   "execution_count": 18,
   "metadata": {},
   "outputs": [
    {
     "data": {
      "text/html": [
       "<div>\n",
       "<style scoped>\n",
       "    .dataframe tbody tr th:only-of-type {\n",
       "        vertical-align: middle;\n",
       "    }\n",
       "\n",
       "    .dataframe tbody tr th {\n",
       "        vertical-align: top;\n",
       "    }\n",
       "\n",
       "    .dataframe thead th {\n",
       "        text-align: right;\n",
       "    }\n",
       "</style>\n",
       "<table border=\"1\" class=\"dataframe\">\n",
       "  <thead>\n",
       "    <tr style=\"text-align: right;\">\n",
       "      <th></th>\n",
       "      <th>kode</th>\n",
       "      <th>nama product</th>\n",
       "      <th>unit</th>\n",
       "      <th>tgl transaksi</th>\n",
       "      <th>kode transaksi</th>\n",
       "      <th>kategori</th>\n",
       "      <th>qty</th>\n",
       "      <th>nilai</th>\n",
       "    </tr>\n",
       "  </thead>\n",
       "  <tbody>\n",
       "    <tr>\n",
       "      <th>0</th>\n",
       "      <td>A000001</td>\n",
       "      <td>ANATON TAB</td>\n",
       "      <td>STRIP</td>\n",
       "      <td>06-07-21</td>\n",
       "      <td>1.13-210706.0908-003</td>\n",
       "      <td>Masuk</td>\n",
       "      <td>10</td>\n",
       "      <td>2520</td>\n",
       "    </tr>\n",
       "    <tr>\n",
       "      <th>1</th>\n",
       "      <td>A000001</td>\n",
       "      <td>ANATON TAB</td>\n",
       "      <td>STRIP</td>\n",
       "      <td>12-07-21</td>\n",
       "      <td>2.6-210712.1519-097</td>\n",
       "      <td>Keluar</td>\n",
       "      <td>1</td>\n",
       "      <td>3000</td>\n",
       "    </tr>\n",
       "    <tr>\n",
       "      <th>2</th>\n",
       "      <td>A000001</td>\n",
       "      <td>ANATON TAB</td>\n",
       "      <td>STRIP</td>\n",
       "      <td>12-07-21</td>\n",
       "      <td>2.11-210712.1633-013</td>\n",
       "      <td>Keluar</td>\n",
       "      <td>1</td>\n",
       "      <td>3000</td>\n",
       "    </tr>\n",
       "    <tr>\n",
       "      <th>3</th>\n",
       "      <td>A000001</td>\n",
       "      <td>ANATON TAB</td>\n",
       "      <td>STRIP</td>\n",
       "      <td>12-07-21</td>\n",
       "      <td>2.13-210712.1807-013</td>\n",
       "      <td>Keluar</td>\n",
       "      <td>1</td>\n",
       "      <td>3000</td>\n",
       "    </tr>\n",
       "    <tr>\n",
       "      <th>4</th>\n",
       "      <td>A000001</td>\n",
       "      <td>ANATON TAB</td>\n",
       "      <td>STRIP</td>\n",
       "      <td>12-07-21</td>\n",
       "      <td>2.11-210712.1855-018</td>\n",
       "      <td>Keluar</td>\n",
       "      <td>1</td>\n",
       "      <td>3000</td>\n",
       "    </tr>\n",
       "  </tbody>\n",
       "</table>\n",
       "</div>"
      ],
      "text/plain": [
       "      kode nama product   unit tgl transaksi        kode transaksi kategori  \\\n",
       "0  A000001   ANATON TAB  STRIP      06-07-21  1.13-210706.0908-003    Masuk   \n",
       "1  A000001   ANATON TAB  STRIP      12-07-21   2.6-210712.1519-097   Keluar   \n",
       "2  A000001   ANATON TAB  STRIP      12-07-21  2.11-210712.1633-013   Keluar   \n",
       "3  A000001   ANATON TAB  STRIP      12-07-21  2.13-210712.1807-013   Keluar   \n",
       "4  A000001   ANATON TAB  STRIP      12-07-21  2.11-210712.1855-018   Keluar   \n",
       "\n",
       "  qty nilai  \n",
       "0  10  2520  \n",
       "1   1  3000  \n",
       "2   1  3000  \n",
       "3   1  3000  \n",
       "4   1  3000  "
      ]
     },
     "execution_count": 18,
     "metadata": {},
     "output_type": "execute_result"
    }
   ],
   "source": [
    "df_transaksi.head(5)"
   ]
  },
  {
   "cell_type": "code",
   "execution_count": 19,
   "metadata": {},
   "outputs": [
    {
     "data": {
      "text/html": [
       "<div>\n",
       "<style scoped>\n",
       "    .dataframe tbody tr th:only-of-type {\n",
       "        vertical-align: middle;\n",
       "    }\n",
       "\n",
       "    .dataframe tbody tr th {\n",
       "        vertical-align: top;\n",
       "    }\n",
       "\n",
       "    .dataframe thead th {\n",
       "        text-align: right;\n",
       "    }\n",
       "</style>\n",
       "<table border=\"1\" class=\"dataframe\">\n",
       "  <thead>\n",
       "    <tr style=\"text-align: right;\">\n",
       "      <th></th>\n",
       "      <th>kode</th>\n",
       "      <th>nama product</th>\n",
       "      <th>lokasi</th>\n",
       "      <th>qty</th>\n",
       "      <th>unit</th>\n",
       "    </tr>\n",
       "  </thead>\n",
       "  <tbody>\n",
       "    <tr>\n",
       "      <th>0</th>\n",
       "      <td>A000001</td>\n",
       "      <td>ANATON TAB</td>\n",
       "      <td>ETL1</td>\n",
       "      <td>12</td>\n",
       "      <td>STRIP</td>\n",
       "    </tr>\n",
       "    <tr>\n",
       "      <th>1</th>\n",
       "      <td>A00001</td>\n",
       "      <td>ACTIVED HIJAU</td>\n",
       "      <td>ETL3A</td>\n",
       "      <td>2</td>\n",
       "      <td>BTL</td>\n",
       "    </tr>\n",
       "    <tr>\n",
       "      <th>2</th>\n",
       "      <td>A000012</td>\n",
       "      <td>APIALYS SYR 100 ML</td>\n",
       "      <td>ETL3A</td>\n",
       "      <td>2</td>\n",
       "      <td>BTL</td>\n",
       "    </tr>\n",
       "    <tr>\n",
       "      <th>3</th>\n",
       "      <td>A000014</td>\n",
       "      <td>ALKOHOL 1000 ML</td>\n",
       "      <td>ETL3B</td>\n",
       "      <td>7</td>\n",
       "      <td>BTL</td>\n",
       "    </tr>\n",
       "    <tr>\n",
       "      <th>4</th>\n",
       "      <td>A000016</td>\n",
       "      <td>ALLOPURINOL 300</td>\n",
       "      <td>RAK2</td>\n",
       "      <td>40</td>\n",
       "      <td>STRIP</td>\n",
       "    </tr>\n",
       "  </tbody>\n",
       "</table>\n",
       "</div>"
      ],
      "text/plain": [
       "      kode        nama product lokasi  qty   unit\n",
       "0  A000001          ANATON TAB   ETL1   12  STRIP\n",
       "1   A00001       ACTIVED HIJAU  ETL3A    2    BTL\n",
       "2  A000012  APIALYS SYR 100 ML  ETL3A    2    BTL\n",
       "3  A000014     ALKOHOL 1000 ML  ETL3B    7    BTL\n",
       "4  A000016     ALLOPURINOL 300   RAK2   40  STRIP"
      ]
     },
     "execution_count": 19,
     "metadata": {},
     "output_type": "execute_result"
    }
   ],
   "source": [
    "df_stok.head(5)"
   ]
  },
  {
   "cell_type": "code",
   "execution_count": 20,
   "metadata": {},
   "outputs": [
    {
     "name": "stdout",
     "output_type": "stream",
     "text": [
      "<class 'pandas.core.frame.DataFrame'>\n",
      "RangeIndex: 138364 entries, 0 to 138363\n",
      "Data columns (total 8 columns):\n",
      " #   Column          Non-Null Count   Dtype \n",
      "---  ------          --------------   ----- \n",
      " 0   kode            138364 non-null  object\n",
      " 1   nama product    138364 non-null  object\n",
      " 2   unit            138364 non-null  object\n",
      " 3   tgl transaksi   138364 non-null  object\n",
      " 4   kode transaksi  138364 non-null  object\n",
      " 5   kategori        138364 non-null  object\n",
      " 6   qty             138364 non-null  object\n",
      " 7   nilai           138364 non-null  object\n",
      "dtypes: object(8)\n",
      "memory usage: 8.4+ MB\n"
     ]
    }
   ],
   "source": [
    "df_transaksi.info()"
   ]
  },
  {
   "cell_type": "code",
   "execution_count": 21,
   "metadata": {},
   "outputs": [
    {
     "name": "stdout",
     "output_type": "stream",
     "text": [
      "<class 'pandas.core.frame.DataFrame'>\n",
      "RangeIndex: 1517 entries, 0 to 1516\n",
      "Data columns (total 5 columns):\n",
      " #   Column        Non-Null Count  Dtype \n",
      "---  ------        --------------  ----- \n",
      " 0   kode          1517 non-null   object\n",
      " 1   nama product  1517 non-null   object\n",
      " 2   lokasi        1517 non-null   object\n",
      " 3   qty           1517 non-null   int64 \n",
      " 4   unit          1517 non-null   object\n",
      "dtypes: int64(1), object(4)\n",
      "memory usage: 59.4+ KB\n"
     ]
    }
   ],
   "source": [
    "df_stok.info()"
   ]
  },
  {
   "cell_type": "code",
   "execution_count": 2,
   "metadata": {},
   "outputs": [
    {
     "name": "stdout",
     "output_type": "stream",
     "text": [
      "      kode nama product   unit tgl transaksi        kode transaksi kategori  \\\n",
      "0  A000001   ANATON TAB  STRIP      06-07-21  1.13-210706.0908-003    Masuk   \n",
      "1  A000001   ANATON TAB  STRIP      12-07-21   2.6-210712.1519-097   Keluar   \n",
      "2  A000001   ANATON TAB  STRIP      12-07-21  2.11-210712.1633-013   Keluar   \n",
      "3  A000001   ANATON TAB  STRIP      12-07-21  2.13-210712.1807-013   Keluar   \n",
      "4  A000001   ANATON TAB  STRIP      12-07-21  2.11-210712.1855-018   Keluar   \n",
      "\n",
      "  qty nilai  \n",
      "0  10  2520  \n",
      "1   1  3000  \n",
      "2   1  3000  \n",
      "3   1  3000  \n",
      "4   1  3000  \n"
     ]
    },
    {
     "name": "stderr",
     "output_type": "stream",
     "text": [
      "C:\\Users\\Elma\\AppData\\Local\\Temp\\ipykernel_19344\\3920752955.py:3: DtypeWarning: Columns (6) have mixed types. Specify dtype option on import or set low_memory=False.\n",
      "  df_pembelian = pd.read_csv(\"pembelian.csv\", sep=\";\")\n"
     ]
    }
   ],
   "source": [
    "import pandas as pd\n",
    "\n",
    "df_pembelian = pd.read_csv(\"pembelian.csv\", sep=\";\")\n",
    "print(df_pembelian.head())\n"
   ]
  },
  {
   "cell_type": "markdown",
   "metadata": {},
   "source": [
    "STEP 1 : Generate kolom kategori 95% dan 5%"
   ]
  },
  {
   "cell_type": "code",
   "execution_count": 3,
   "metadata": {},
   "outputs": [
    {
     "name": "stdout",
     "output_type": "stream",
     "text": [
      "=== Distribusi kategori_obat ===\n",
      "kategori_obat\n",
      "Obat Bebas           95.118672\n",
      "Obat Resep Dokter     4.881328\n",
      "Name: proportion, dtype: float64\n"
     ]
    }
   ],
   "source": [
    "# ============================================\n",
    "# 1. Generate Kolom Kategori (95% vs 5%)\n",
    "# ============================================\n",
    "import numpy as np\n",
    "\n",
    "np.random.seed(42)\n",
    "df_pembelian[\"kategori_obat\"] = np.random.choice(\n",
    "    [\"Obat Bebas\", \"Obat Resep Dokter\"],\n",
    "    size=len(df_pembelian),\n",
    "    p=[0.95, 0.05]\n",
    ")\n",
    "\n",
    "# Cek distribusi kategori obat baru\n",
    "print(\"=== Distribusi kategori_obat ===\")\n",
    "print(df_pembelian[\"kategori_obat\"].value_counts(normalize=True) * 100)\n"
   ]
  },
  {
   "cell_type": "markdown",
   "metadata": {},
   "source": [
    "STEP 2 : Analisis distribusi kategori obat"
   ]
  },
  {
   "cell_type": "code",
   "execution_count": 4,
   "metadata": {},
   "outputs": [
    {
     "name": "stdout",
     "output_type": "stream",
     "text": [
      "=== Jumlah Tiap Kategori ===\n",
      "kategori_obat\n",
      "Obat Bebas           131610\n",
      "Obat Resep Dokter      6754\n",
      "Name: count, dtype: int64\n",
      "\n",
      "=== Persentase Tiap Kategori (%) ===\n",
      "kategori_obat\n",
      "Obat Bebas           95.118672\n",
      "Obat Resep Dokter     4.881328\n",
      "Name: proportion, dtype: float64\n"
     ]
    },
    {
     "data": {
      "image/png": "[encoded data removed]",
      "text/plain": [
       "<Figure size 600x500 with 1 Axes>"
      ]
     },
     "metadata": {},
     "output_type": "display_data"
    }
   ],
   "source": [
    "# ============================================\n",
    "# 2. Analisis Distribusi Kategori Obat\n",
    "# ============================================\n",
    "\n",
    "import matplotlib.pyplot as plt\n",
    "\n",
    "# Hitung distribusi kategori\n",
    "kategori_counts = df_pembelian[\"kategori_obat\"].value_counts()\n",
    "kategori_percent = df_pembelian[\"kategori_obat\"].value_counts(normalize=True) * 100\n",
    "\n",
    "print(\"=== Jumlah Tiap Kategori ===\")\n",
    "print(kategori_counts)\n",
    "print(\"\\n=== Persentase Tiap Kategori (%) ===\")\n",
    "print(kategori_percent)\n",
    "\n",
    "# Visualisasi distribusi kategori\n",
    "plt.figure(figsize=(6, 5))\n",
    "plt.bar(kategori_counts.index, kategori_counts.values, color=[\"skyblue\", \"salmon\"])\n",
    "plt.title(\"Distribusi Kategori Obat\")\n",
    "plt.xlabel(\"Kategori Obat\")\n",
    "plt.ylabel(\"Jumlah Data\")\n",
    "plt.show()\n"
   ]
  },
  {
   "cell_type": "code",
   "execution_count": 5,
   "metadata": {},
   "outputs": [
    {
     "name": "stdout",
     "output_type": "stream",
     "text": [
      "['kode', 'nama product', 'unit', 'tgl transaksi', 'kode transaksi', 'kategori', 'qty', 'nilai', 'kategori_obat']\n"
     ]
    }
   ],
   "source": [
    "print(df_pembelian.columns.tolist())"
   ]
  },
  {
   "cell_type": "code",
   "execution_count": 6,
   "metadata": {},
   "outputs": [
    {
     "name": "stdout",
     "output_type": "stream",
     "text": [
      "\n",
      "=== Contoh Encoding kategori_obat ===\n",
      "       kategori_obat  kategori_obat_encoded\n",
      "0         Obat Bebas                      0\n",
      "1  Obat Resep Dokter                      1\n",
      "2         Obat Bebas                      0\n",
      "3         Obat Bebas                      0\n",
      "4         Obat Bebas                      0\n",
      "\n",
      "Kolom kategorikal yang akan di-encode: ['kategori']\n",
      "\n",
      "=== Hasil Split Data ===\n",
      "Train set: (110691, 5)\n",
      "Test set : (27673, 5)\n",
      "\n",
      "Distribusi kategori pada train set:\n",
      "kategori_obat_encoded\n",
      "0    95.118844\n",
      "1     4.881156\n",
      "Name: proportion, dtype: float64\n",
      "\n",
      "Distribusi kategori pada test set:\n",
      "kategori_obat_encoded\n",
      "0    95.117985\n",
      "1     4.882015\n",
      "Name: proportion, dtype: float64\n"
     ]
    }
   ],
   "source": [
    "# ============================================\n",
    "# 2. Label Encoding untuk Kolom Target\n",
    "# ============================================\n",
    "from sklearn.preprocessing import LabelEncoder\n",
    "\n",
    "le = LabelEncoder()\n",
    "df_pembelian[\"kategori_obat_encoded\"] = le.fit_transform(df_pembelian[\"kategori_obat\"])\n",
    "\n",
    "# Lihat hasil encoding kategori_obat\n",
    "print(\"\\n=== Contoh Encoding kategori_obat ===\")\n",
    "print(df_pembelian[[\"kategori_obat\", \"kategori_obat_encoded\"]].head())\n",
    "\n",
    "\n",
    "# ============================================\n",
    "# 3. Persiapan Data Fitur dan Split Train/Test\n",
    "# ============================================\n",
    "from sklearn.model_selection import train_test_split\n",
    "\n",
    "# Pilih kolom fitur (hanya kolom yang relevan & tidak terlalu besar)\n",
    "kolom_fitur = [\n",
    "    \"qty\", \n",
    "    \"nilai\", \n",
    "    \"kategori\", \n",
    "    \"unit\", \n",
    "    \"nama product\"\n",
    "]\n",
    "\n",
    "# Ambil data fitur dan target\n",
    "X = df_pembelian[kolom_fitur].copy()\n",
    "y = df_pembelian[\"kategori_obat_encoded\"]\n",
    "\n",
    "# Pastikan kolom kategorikal ditangani dengan efisien (hindari MemoryError)\n",
    "# Hanya encode kolom kategorikal dengan sedikit nilai unik\n",
    "kolom_kategorikal = [col for col in X.select_dtypes(include='object').columns if X[col].nunique() < 50]\n",
    "\n",
    "print(\"\\nKolom kategorikal yang akan di-encode:\", kolom_kategorikal)\n",
    "\n",
    "# One-hot encoding hanya untuk kolom kategorikal kecil\n",
    "X = pd.get_dummies(X, columns=kolom_kategorikal, drop_first=True)\n",
    "\n",
    "# Split data (stratify untuk menjaga distribusi kategori seimbang)\n",
    "X_train, X_test, y_train, y_test = train_test_split(\n",
    "    X, y, test_size=0.2, random_state=42, stratify=y\n",
    ")\n",
    "\n",
    "print(\"\\n=== Hasil Split Data ===\")\n",
    "print(\"Train set:\", X_train.shape)\n",
    "print(\"Test set :\", X_test.shape)\n",
    "print(\"\\nDistribusi kategori pada train set:\")\n",
    "print(y_train.value_counts(normalize=True) * 100)\n",
    "print(\"\\nDistribusi kategori pada test set:\")\n",
    "print(y_test.value_counts(normalize=True) * 100)\n"
   ]
  },
  {
   "cell_type": "code",
   "execution_count": 8,
   "metadata": {},
   "outputs": [
    {
     "name": "stdout",
     "output_type": "stream",
     "text": [
      "Defaulting to user installation because normal site-packages is not writeable\n",
      "Collecting imbalanced-learn\n",
      "  Downloading imbalanced_learn-0.14.0-py3-none-any.whl.metadata (8.8 kB)\n",
      "Requirement already satisfied: numpy<3,>=1.25.2 in c:\\users\\elma\\appdata\\roaming\\python\\python313\\site-packages (from imbalanced-learn) (2.2.6)\n",
      "Requirement already satisfied: scipy<2,>=1.11.4 in c:\\users\\elma\\appdata\\roaming\\python\\python313\\site-packages (from imbalanced-learn) (1.16.1)\n",
      "Requirement already satisfied: scikit-learn<2,>=1.4.2 in c:\\users\\elma\\appdata\\roaming\\python\\python313\\site-packages (from imbalanced-learn) (1.7.1)\n",
      "Requirement already satisfied: joblib<2,>=1.2.0 in c:\\users\\elma\\appdata\\roaming\\python\\python313\\site-packages (from imbalanced-learn) (1.5.2)\n",
      "Requirement already satisfied: threadpoolctl<4,>=2.0.0 in c:\\users\\elma\\appdata\\roaming\\python\\python313\\site-packages (from imbalanced-learn) (3.6.0)\n",
      "Downloading imbalanced_learn-0.14.0-py3-none-any.whl (239 kB)\n",
      "Installing collected packages: imbalanced-learn\n",
      "Successfully installed imbalanced-learn-0.14.0\n",
      "Note: you may need to restart the kernel to use updated packages.\n"
     ]
    }
   ],
   "source": [
    "pip install imbalanced-learn"
   ]
  },
  {
   "cell_type": "code",
   "execution_count": 9,
   "metadata": {},
   "outputs": [
    {
     "name": "stdout",
     "output_type": "stream",
     "text": [
      "0.14.0\n"
     ]
    }
   ],
   "source": [
    "import imblearn\n",
    "print(imblearn.__version__)\n"
   ]
  },
  {
   "cell_type": "markdown",
   "metadata": {},
   "source": [
    "STEP 3 : Resampling (oversampling)"
   ]
  },
  {
   "cell_type": "code",
   "execution_count": 10,
   "metadata": {},
   "outputs": [
    {
     "name": "stdout",
     "output_type": "stream",
     "text": [
      "🔹 Sebelum Oversampling:\n",
      "kategori_obat_encoded\n",
      "0    95.118844\n",
      "1     4.881156\n",
      "Name: proportion, dtype: float64\n",
      "\n",
      "🔹 Setelah Oversampling:\n",
      "kategori_obat_encoded\n",
      "0    50.0\n",
      "1    50.0\n",
      "Name: proportion, dtype: float64\n",
      "\n",
      "Ukuran data sebelum: (110691, 5)\n",
      "Ukuran data sesudah : (210576, 5)\n"
     ]
    }
   ],
   "source": [
    "# ============================================\n",
    "# 4. Resampling (Oversampling)\n",
    "# ============================================\n",
    "from imblearn.over_sampling import RandomOverSampler\n",
    "import pandas as pd\n",
    "\n",
    "# Cek dulu proporsi sebelum oversampling\n",
    "print(\"🔹 Sebelum Oversampling:\")\n",
    "print(y_train.value_counts(normalize=True) * 100)\n",
    "\n",
    "# Inisialisasi RandomOverSampler\n",
    "ros = RandomOverSampler(random_state=42)\n",
    "\n",
    "# Terapkan oversampling ke data train\n",
    "X_train_res, y_train_res = ros.fit_resample(X_train, y_train)\n",
    "\n",
    "# Cek hasil setelah oversampling\n",
    "print(\"\\n🔹 Setelah Oversampling:\")\n",
    "print(y_train_res.value_counts(normalize=True) * 100)\n",
    "\n",
    "# Gabungkan hasil jadi dataframe baru (opsional)\n",
    "df_train_balanced = pd.concat([X_train_res, y_train_res], axis=1)\n",
    "\n",
    "print(\"\\nUkuran data sebelum:\", X_train.shape)\n",
    "print(\"Ukuran data sesudah :\", X_train_res.shape)\n"
   ]
  },
  {
   "cell_type": "code",
   "execution_count": 17,
   "metadata": {},
   "outputs": [
    {
     "data": {
      "text/plain": [
       "<Figure size 800x500 with 0 Axes>"
      ]
     },
     "metadata": {},
     "output_type": "display_data"
    },
    {
     "data": {
      "image/png": "[encoded data removed]",
      "text/plain": [
       "<Figure size 640x480 with 1 Axes>"
      ]
     },
     "metadata": {},
     "output_type": "display_data"
    }
   ],
   "source": [
    "import matplotlib.pyplot as plt\n",
    "import seaborn as sns\n",
    "import pandas as pd\n",
    "\n",
    "# === Distribusi sebelum oversampling ===\n",
    "before = y_train.value_counts(normalize=False)\n",
    "\n",
    "# === Distribusi sesudah oversampling ===\n",
    "after = pd.Series(y_train_res).value_counts(normalize=False)\n",
    "\n",
    "# Buat DataFrame gabungan untuk visualisasi\n",
    "df_compare = pd.DataFrame({\n",
    "    'Sebelum Oversampling': before,\n",
    "    'Sesudah Oversampling': after\n",
    "})\n",
    "\n",
    "# Plot bar chart\n",
    "plt.figure(figsize=(8, 5))\n",
    "df_compare.plot(kind='bar', color=['#1f77b4', '#ff7f0e'])\n",
    "plt.title('Distribusi Kelas Sebelum dan Sesudah Oversampling')\n",
    "plt.xlabel('Kategori (0 = Obat Bebas, 1 = Obat Resep Dokter)')\n",
    "plt.ylabel('Jumlah Sampel')\n",
    "plt.grid(axis='y', linestyle='--', alpha=0.7)\n",
    "plt.legend(title='Dataset', loc='upper right')\n",
    "plt.tight_layout()\n",
    "plt.show()\n"
   ]
  },
  {
   "cell_type": "markdown",
   "metadata": {},
   "source": [
    "STEP 4 : Modeling dengan Logistic Regression (Algorithm-Level)"
   ]
  },
  {
   "cell_type": "code",
   "execution_count": 19,
   "metadata": {},
   "outputs": [],
   "source": [
    "from sklearn.linear_model import LogisticRegression\n",
    "from sklearn.metrics import classification_report, confusion_matrix, accuracy_score\n",
    "import seaborn as sns\n",
    "import matplotlib.pyplot as plt\n"
   ]
  },
  {
   "cell_type": "code",
   "execution_count": 15,
   "metadata": {},
   "outputs": [],
   "source": [
    "# Pastikan kolom numerik benar-benar numerik\n",
    "df_pembelian['nilai'] = df_pembelian['nilai'].astype(str).str.replace(',', '.')\n",
    "df_pembelian['qty'] = df_pembelian['qty'].astype(str).str.replace(',', '.')\n",
    "\n",
    "# Ubah ke tipe float\n",
    "df_pembelian['nilai'] = pd.to_numeric(df_pembelian['nilai'], errors='coerce')\n",
    "df_pembelian['qty'] = pd.to_numeric(df_pembelian['qty'], errors='coerce')\n",
    "\n",
    "# Hapus baris yang null (kalau ada setelah konversi)\n",
    "df_pembelian = df_pembelian.dropna(subset=['nilai', 'qty'])\n"
   ]
  },
  {
   "cell_type": "code",
   "execution_count": 40,
   "metadata": {},
   "outputs": [
    {
     "name": "stdout",
     "output_type": "stream",
     "text": [
      "=== Confusion Matrix ===\n",
      "[[26322     0]\n",
      " [ 1351     0]]\n"
     ]
    },
    {
     "data": {
      "image/png": "[encoded data removed]",
      "text/plain": [
       "<Figure size 600x400 with 2 Axes>"
      ]
     },
     "metadata": {},
     "output_type": "display_data"
    }
   ],
   "source": [
    "# ============================================\n",
    "# 5. Modeling: Logistic Regression (Simple)\n",
    "# ============================================\n",
    "\n",
    "from sklearn.model_selection import train_test_split\n",
    "from sklearn.linear_model import LogisticRegression\n",
    "from sklearn.metrics import confusion_matrix\n",
    "\n",
    "# Fitur dan target\n",
    "X = df_pembelian[['nilai', 'qty']]\n",
    "y = df_pembelian['kategori_obat_encoded']\n",
    "\n",
    "# Split data ke train dan test\n",
    "X_train, X_test, y_train, y_test = train_test_split(\n",
    "    X, y, test_size=0.2, stratify=y, random_state=42\n",
    ")\n",
    "\n",
    "# Inisialisasi model\n",
    "model = LogisticRegression(max_iter=1000, random_state=42)\n",
    "\n",
    "# Latih model\n",
    "model.fit(X_train, y_train)\n",
    "\n",
    "# Prediksi\n",
    "y_pred = model.predict(X_test)\n",
    "\n",
    "# Evaluasi\n",
    "print(\"=== Confusion Matrix ===\")\n",
    "print(confusion_matrix(y_test, y_pred))\n",
    "\n",
    "# Visualisasi Confusion Matrix\n",
    "plt.figure(figsize=(6,4))\n",
    "cm = confusion_matrix(y_test, y_pred)\n",
    "sns.heatmap(cm, annot=True, fmt='d', cmap='Blues', xticklabels=['Obat Bebas', 'Obat Resep Dokter'], yticklabels=['Obat Bebas', 'Obat Resep Dokter'])\n",
    "plt.xlabel('Predicted')\n",
    "plt.ylabel('Actual')\n",
    "plt.title('Confusion Matrix - Logistic Regression (Simple)')\n",
    "plt.show()"
   ]
  },
  {
   "cell_type": "markdown",
   "metadata": {},
   "source": [
    "STEP 5 : Hybrid Methods (oversampling + class weight)"
   ]
  },
  {
   "cell_type": "code",
   "execution_count": 37,
   "metadata": {},
   "outputs": [
    {
     "name": "stdout",
     "output_type": "stream",
     "text": [
      "=== Confusion Matrix (Hybrid) ===\n",
      "[[ 9739 16583]\n",
      " [  514   837]]\n"
     ]
    },
    {
     "data": {
      "image/png": "[encoded data removed]",
      "text/plain": [
       "<Figure size 600x400 with 1 Axes>"
      ]
     },
     "metadata": {},
     "output_type": "display_data"
    }
   ],
   "source": [
    "from sklearn.linear_model import LogisticRegression\n",
    "from sklearn.metrics import confusion_matrix\n",
    "import seaborn as sns\n",
    "import matplotlib.pyplot as plt\n",
    "\n",
    "# === Model Hybrid: Oversampling + Class Weight ===\n",
    "hybrid_model = LogisticRegression(\n",
    "    max_iter=1000,\n",
    "    class_weight='balanced',\n",
    "    random_state=42\n",
    ")\n",
    "\n",
    "# Latih model dengan data hasil oversampling\n",
    "hybrid_model.fit(X_train_res, y_train_res)\n",
    "\n",
    "# Prediksi data test\n",
    "y_pred_hybrid = hybrid_model.predict(X_test)\n",
    "\n",
    "# Evaluasi hasil\n",
    "print(\"=== Confusion Matrix (Hybrid) ===\")\n",
    "print(confusion_matrix(y_test, y_pred_hybrid))\n",
    "\n",
    "# Visualisasi Confusion Matrix\n",
    "plt.figure(figsize=(6,4))\n",
    "sns.heatmap(confusion_matrix(y_test, y_pred_hybrid),\n",
    "            annot=True, fmt='d', cmap='Blues', cbar=False)\n",
    "plt.title(\"Confusion Matrix - Hybrid Method (Oversampling + Class Weight)\")\n",
    "plt.xlabel(\"Predicted\")\n",
    "plt.ylabel(\"Actual\")\n",
    "plt.show()\n"
   ]
  },
  {
   "cell_type": "markdown",
   "metadata": {},
   "source": [
    "STEP 6 : Evaluasi khusus untuk imbalanced data (precision, recall, F1-score, dan ROC-AUC)"
   ]
  },
  {
   "cell_type": "code",
   "execution_count": 32,
   "metadata": {},
   "outputs": [
    {
     "name": "stdout",
     "output_type": "stream",
     "text": [
      "=== Baseline Logistic Regression ===\n",
      "              precision    recall  f1-score   support\n",
      "\n",
      "           0     0.9512    1.0000    0.9750     26322\n",
      "           1     0.0000    0.0000    0.0000      1351\n",
      "\n",
      "    accuracy                         0.9512     27673\n",
      "   macro avg     0.4756    0.5000    0.4875     27673\n",
      "weighted avg     0.9047    0.9512    0.9274     27673\n",
      "\n",
      "ROC-AUC (baseline): 0.4993\n",
      "\n",
      "=== Hybrid (Oversampling + Class Weight) ===\n",
      "              precision    recall  f1-score   support\n",
      "\n",
      "           0     0.9499    0.3700    0.5325     26322\n",
      "           1     0.0480    0.6195    0.0892      1351\n",
      "\n",
      "    accuracy                         0.3822     27673\n",
      "   macro avg     0.4990    0.4948    0.3109     27673\n",
      "weighted avg     0.9058    0.3822    0.5109     27673\n",
      "\n",
      "ROC-AUC (hybrid): 0.4934\n",
      "\n",
      "Compact summary:\n",
      "Baseline  - Precision (pos=1): 0.0000, Recall: 0.0000, F1: 0.0000\n",
      "Hybrid    - Precision (pos=1): 0.0480, Recall: 0.6195, F1: 0.0892\n"
     ]
    }
   ],
   "source": [
    "from sklearn.metrics import precision_score, recall_score, f1_score, roc_auc_score, classification_report\n",
    "\n",
    "# Baseline model evaluation (simple Logistic Regression)\n",
    "y_proba_baseline = model.predict_proba(X_test)[:, 1]\n",
    "print(\"=== Baseline Logistic Regression ===\")\n",
    "print(classification_report(y_test, y_pred, digits=4, zero_division=0))\n",
    "print(f\"ROC-AUC (baseline): {roc_auc_score(y_test, y_proba_baseline):.4f}\\n\")\n",
    "\n",
    "# Hybrid model evaluation (Oversampling + Class Weight)\n",
    "print(\"=== Hybrid (Oversampling + Class Weight) ===\")\n",
    "print(classification_report(y_test, y_pred_hybrid, digits=4, zero_division=0))\n",
    "print(f\"ROC-AUC (hybrid): {roc_auc_score(y_test, y_proba_hybrid):.4f}\\n\")\n",
    "\n",
    "# Compact summary (precision, recall, f1 for positive class and macro-avg)\n",
    "pos = 1\n",
    "print(\"Compact summary:\")\n",
    "print(f\"Baseline  - Precision (pos={pos}): {precision_score(y_test, y_pred, pos_label=pos, zero_division=0):.4f}, \"\n",
    "    f\"Recall: {recall_score(y_test, y_pred, pos_label=pos, zero_division=0):.4f}, \"\n",
    "    f\"F1: {f1_score(y_test, y_pred, pos_label=pos, zero_division=0):.4f}\")\n",
    "print(f\"Hybrid    - Precision (pos={pos}): {precision_score(y_test, y_pred_hybrid, pos_label=pos, zero_division=0):.4f}, \"\n",
    "    f\"Recall: {recall_score(y_test, y_pred_hybrid, pos_label=pos, zero_division=0):.4f}, \"\n",
    "    f\"F1: {f1_score(y_test, y_pred_hybrid, pos_label=pos, zero_division=0):.4f}\")"
   ]
  }
 ],
 "metadata": {
  "kernelspec": {
   "display_name": "myenv",
   "language": "python",
   "name": "python3"
  },
  "language_info": {
   "codemirror_mode": {
    "name": "ipython",
    "version": 3
   },
   "file_extension": ".py",
   "mimetype": "text/x-python",
   "name": "python",
   "nbconvert_exporter": "python",
   "pygments_lexer": "ipython3",
   "version": "3.10.16"
  },
  "orig_nbformat": 4
 },
 "nbformat": 4,
 "nbformat_minor": 2
}
