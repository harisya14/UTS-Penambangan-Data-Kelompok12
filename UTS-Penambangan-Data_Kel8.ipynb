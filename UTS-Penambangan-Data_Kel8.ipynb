{
 "cells": [
  {
   "cell_type": "code",
   "execution_count": 12,
   "metadata": {},
   "outputs": [
    {
     "name": "stdout",
     "output_type": "stream",
     "text": [
      "Requirement already satisfied: pandas in c:\\users\\asus\\miniconda3\\envs\\myenv\\lib\\site-packages (2.3.3)Note: you may need to restart the kernel to use updated packages.\n",
      "\n",
      "Requirement already satisfied: numpy>=1.22.4 in c:\\users\\asus\\miniconda3\\envs\\myenv\\lib\\site-packages (from pandas) (2.2.5)\n",
      "Requirement already satisfied: python-dateutil>=2.8.2 in c:\\users\\asus\\miniconda3\\envs\\myenv\\lib\\site-packages (from pandas) (2.9.0.post0)\n",
      "Requirement already satisfied: pytz>=2020.1 in c:\\users\\asus\\miniconda3\\envs\\myenv\\lib\\site-packages (from pandas) (2025.2)\n",
      "Requirement already satisfied: tzdata>=2022.7 in c:\\users\\asus\\miniconda3\\envs\\myenv\\lib\\site-packages (from pandas) (2025.2)\n",
      "Requirement already satisfied: six>=1.5 in c:\\users\\asus\\miniconda3\\envs\\myenv\\lib\\site-packages (from python-dateutil>=2.8.2->pandas) (1.17.0)\n"
     ]
    }
   ],
   "source": [
    "%pip install pandas"
   ]
  },
  {
   "cell_type": "code",
   "execution_count": 13,
   "metadata": {},
   "outputs": [
    {
     "name": "stdout",
     "output_type": "stream",
     "text": [
      "Requirement already satisfied: matplotlib in c:\\users\\asus\\miniconda3\\envs\\myenv\\lib\\site-packages (3.10.7)Note: you may need to restart the kernel to use updated packages.\n",
      "\n",
      "Requirement already satisfied: seaborn in c:\\users\\asus\\miniconda3\\envs\\myenv\\lib\\site-packages (0.13.2)\n",
      "Requirement already satisfied: contourpy>=1.0.1 in c:\\users\\asus\\miniconda3\\envs\\myenv\\lib\\site-packages (from matplotlib) (1.3.2)\n",
      "Requirement already satisfied: cycler>=0.10 in c:\\users\\asus\\miniconda3\\envs\\myenv\\lib\\site-packages (from matplotlib) (0.12.1)\n",
      "Requirement already satisfied: fonttools>=4.22.0 in c:\\users\\asus\\miniconda3\\envs\\myenv\\lib\\site-packages (from matplotlib) (4.60.1)\n",
      "Requirement already satisfied: kiwisolver>=1.3.1 in c:\\users\\asus\\miniconda3\\envs\\myenv\\lib\\site-packages (from matplotlib) (1.4.9)\n",
      "Requirement already satisfied: numpy>=1.23 in c:\\users\\asus\\miniconda3\\envs\\myenv\\lib\\site-packages (from matplotlib) (2.2.5)\n",
      "Requirement already satisfied: packaging>=20.0 in c:\\users\\asus\\miniconda3\\envs\\myenv\\lib\\site-packages (from matplotlib) (25.0)\n",
      "Requirement already satisfied: pillow>=8 in c:\\users\\asus\\miniconda3\\envs\\myenv\\lib\\site-packages (from matplotlib) (12.0.0)\n",
      "Requirement already satisfied: pyparsing>=3 in c:\\users\\asus\\miniconda3\\envs\\myenv\\lib\\site-packages (from matplotlib) (3.2.5)\n",
      "Requirement already satisfied: python-dateutil>=2.7 in c:\\users\\asus\\miniconda3\\envs\\myenv\\lib\\site-packages (from matplotlib) (2.9.0.post0)\n",
      "Requirement already satisfied: pandas>=1.2 in c:\\users\\asus\\miniconda3\\envs\\myenv\\lib\\site-packages (from seaborn) (2.3.3)\n",
      "Requirement already satisfied: pytz>=2020.1 in c:\\users\\asus\\miniconda3\\envs\\myenv\\lib\\site-packages (from pandas>=1.2->seaborn) (2025.2)\n",
      "Requirement already satisfied: tzdata>=2022.7 in c:\\users\\asus\\miniconda3\\envs\\myenv\\lib\\site-packages (from pandas>=1.2->seaborn) (2025.2)\n",
      "Requirement already satisfied: six>=1.5 in c:\\users\\asus\\miniconda3\\envs\\myenv\\lib\\site-packages (from python-dateutil>=2.7->matplotlib) (1.17.0)\n"
     ]
    }
   ],
   "source": [
    "%pip install matplotlib seaborn"
   ]
  },
  {
   "cell_type": "code",
   "execution_count": 14,
   "metadata": {},
   "outputs": [],
   "source": [
    "import pandas as pd\n",
    "import numpy as np\n",
    "import matplotlib.pyplot as plt\n",
    "import seaborn as sns\n",
    "from datetime import datetime\n",
    "\n",
    "%matplotlib inline"
   ]
  },
  {
   "cell_type": "code",
   "execution_count": 15,
   "metadata": {},
   "outputs": [],
   "source": [
    "plt.style.use('seaborn-v0_8')\n",
    "sns.set_palette(\"Set2\")\n",
    "pd.set_option('display.max_columns', None)"
   ]
  },
  {
   "cell_type": "code",
   "execution_count": 16,
   "metadata": {},
   "outputs": [
    {
     "name": "stderr",
     "output_type": "stream",
     "text": [
      "C:\\Users\\ASUS\\AppData\\Local\\Temp\\ipykernel_19232\\4122221870.py:1: DtypeWarning: Columns (6) have mixed types. Specify dtype option on import or set low_memory=False.\n",
      "  df_transaksi = pd.read_csv(\"pembelian.csv\", sep=';', encoding='utf-8')\n"
     ]
    }
   ],
   "source": [
    "df_transaksi = pd.read_csv(\"pembelian.csv\", sep=';', encoding='utf-8')\n",
    "df_stok = pd.read_csv(\"stok.csv\", sep=';', encoding='utf-8')"
   ]
  },
  {
   "cell_type": "code",
   "execution_count": 17,
   "metadata": {},
   "outputs": [
    {
     "name": "stdout",
     "output_type": "stream",
     "text": [
      "✅ Data transaksi: (138364, 8)\n",
      "✅ Data stok: (1517, 5)\n"
     ]
    }
   ],
   "source": [
    "print(\"✅ Data transaksi:\", df_transaksi.shape)\n",
    "print(\"✅ Data stok:\", df_stok.shape)"
   ]
  },
  {
   "cell_type": "code",
   "execution_count": 18,
   "metadata": {},
   "outputs": [
    {
     "data": {
      "text/html": [
       "<div>\n",
       "<style scoped>\n",
       "    .dataframe tbody tr th:only-of-type {\n",
       "        vertical-align: middle;\n",
       "    }\n",
       "\n",
       "    .dataframe tbody tr th {\n",
       "        vertical-align: top;\n",
       "    }\n",
       "\n",
       "    .dataframe thead th {\n",
       "        text-align: right;\n",
       "    }\n",
       "</style>\n",
       "<table border=\"1\" class=\"dataframe\">\n",
       "  <thead>\n",
       "    <tr style=\"text-align: right;\">\n",
       "      <th></th>\n",
       "      <th>kode</th>\n",
       "      <th>nama product</th>\n",
       "      <th>unit</th>\n",
       "      <th>tgl transaksi</th>\n",
       "      <th>kode transaksi</th>\n",
       "      <th>kategori</th>\n",
       "      <th>qty</th>\n",
       "      <th>nilai</th>\n",
       "    </tr>\n",
       "  </thead>\n",
       "  <tbody>\n",
       "    <tr>\n",
       "      <th>0</th>\n",
       "      <td>A000001</td>\n",
       "      <td>ANATON TAB</td>\n",
       "      <td>STRIP</td>\n",
       "      <td>06-07-21</td>\n",
       "      <td>1.13-210706.0908-003</td>\n",
       "      <td>Masuk</td>\n",
       "      <td>10</td>\n",
       "      <td>2520</td>\n",
       "    </tr>\n",
       "    <tr>\n",
       "      <th>1</th>\n",
       "      <td>A000001</td>\n",
       "      <td>ANATON TAB</td>\n",
       "      <td>STRIP</td>\n",
       "      <td>12-07-21</td>\n",
       "      <td>2.6-210712.1519-097</td>\n",
       "      <td>Keluar</td>\n",
       "      <td>1</td>\n",
       "      <td>3000</td>\n",
       "    </tr>\n",
       "    <tr>\n",
       "      <th>2</th>\n",
       "      <td>A000001</td>\n",
       "      <td>ANATON TAB</td>\n",
       "      <td>STRIP</td>\n",
       "      <td>12-07-21</td>\n",
       "      <td>2.11-210712.1633-013</td>\n",
       "      <td>Keluar</td>\n",
       "      <td>1</td>\n",
       "      <td>3000</td>\n",
       "    </tr>\n",
       "    <tr>\n",
       "      <th>3</th>\n",
       "      <td>A000001</td>\n",
       "      <td>ANATON TAB</td>\n",
       "      <td>STRIP</td>\n",
       "      <td>12-07-21</td>\n",
       "      <td>2.13-210712.1807-013</td>\n",
       "      <td>Keluar</td>\n",
       "      <td>1</td>\n",
       "      <td>3000</td>\n",
       "    </tr>\n",
       "    <tr>\n",
       "      <th>4</th>\n",
       "      <td>A000001</td>\n",
       "      <td>ANATON TAB</td>\n",
       "      <td>STRIP</td>\n",
       "      <td>12-07-21</td>\n",
       "      <td>2.11-210712.1855-018</td>\n",
       "      <td>Keluar</td>\n",
       "      <td>1</td>\n",
       "      <td>3000</td>\n",
       "    </tr>\n",
       "  </tbody>\n",
       "</table>\n",
       "</div>"
      ],
      "text/plain": [
       "      kode nama product   unit tgl transaksi        kode transaksi kategori  \\\n",
       "0  A000001   ANATON TAB  STRIP      06-07-21  1.13-210706.0908-003    Masuk   \n",
       "1  A000001   ANATON TAB  STRIP      12-07-21   2.6-210712.1519-097   Keluar   \n",
       "2  A000001   ANATON TAB  STRIP      12-07-21  2.11-210712.1633-013   Keluar   \n",
       "3  A000001   ANATON TAB  STRIP      12-07-21  2.13-210712.1807-013   Keluar   \n",
       "4  A000001   ANATON TAB  STRIP      12-07-21  2.11-210712.1855-018   Keluar   \n",
       "\n",
       "  qty nilai  \n",
       "0  10  2520  \n",
       "1   1  3000  \n",
       "2   1  3000  \n",
       "3   1  3000  \n",
       "4   1  3000  "
      ]
     },
     "execution_count": 18,
     "metadata": {},
     "output_type": "execute_result"
    }
   ],
   "source": [
    "df_transaksi.head(5)"
   ]
  },
  {
   "cell_type": "code",
   "execution_count": 19,
   "metadata": {},
   "outputs": [
    {
     "data": {
      "text/html": [
       "<div>\n",
       "<style scoped>\n",
       "    .dataframe tbody tr th:only-of-type {\n",
       "        vertical-align: middle;\n",
       "    }\n",
       "\n",
       "    .dataframe tbody tr th {\n",
       "        vertical-align: top;\n",
       "    }\n",
       "\n",
       "    .dataframe thead th {\n",
       "        text-align: right;\n",
       "    }\n",
       "</style>\n",
       "<table border=\"1\" class=\"dataframe\">\n",
       "  <thead>\n",
       "    <tr style=\"text-align: right;\">\n",
       "      <th></th>\n",
       "      <th>kode</th>\n",
       "      <th>nama product</th>\n",
       "      <th>lokasi</th>\n",
       "      <th>qty</th>\n",
       "      <th>unit</th>\n",
       "    </tr>\n",
       "  </thead>\n",
       "  <tbody>\n",
       "    <tr>\n",
       "      <th>0</th>\n",
       "      <td>A000001</td>\n",
       "      <td>ANATON TAB</td>\n",
       "      <td>ETL1</td>\n",
       "      <td>12</td>\n",
       "      <td>STRIP</td>\n",
       "    </tr>\n",
       "    <tr>\n",
       "      <th>1</th>\n",
       "      <td>A00001</td>\n",
       "      <td>ACTIVED HIJAU</td>\n",
       "      <td>ETL3A</td>\n",
       "      <td>2</td>\n",
       "      <td>BTL</td>\n",
       "    </tr>\n",
       "    <tr>\n",
       "      <th>2</th>\n",
       "      <td>A000012</td>\n",
       "      <td>APIALYS SYR 100 ML</td>\n",
       "      <td>ETL3A</td>\n",
       "      <td>2</td>\n",
       "      <td>BTL</td>\n",
       "    </tr>\n",
       "    <tr>\n",
       "      <th>3</th>\n",
       "      <td>A000014</td>\n",
       "      <td>ALKOHOL 1000 ML</td>\n",
       "      <td>ETL3B</td>\n",
       "      <td>7</td>\n",
       "      <td>BTL</td>\n",
       "    </tr>\n",
       "    <tr>\n",
       "      <th>4</th>\n",
       "      <td>A000016</td>\n",
       "      <td>ALLOPURINOL 300</td>\n",
       "      <td>RAK2</td>\n",
       "      <td>40</td>\n",
       "      <td>STRIP</td>\n",
       "    </tr>\n",
       "  </tbody>\n",
       "</table>\n",
       "</div>"
      ],
      "text/plain": [
       "      kode        nama product lokasi  qty   unit\n",
       "0  A000001          ANATON TAB   ETL1   12  STRIP\n",
       "1   A00001       ACTIVED HIJAU  ETL3A    2    BTL\n",
       "2  A000012  APIALYS SYR 100 ML  ETL3A    2    BTL\n",
       "3  A000014     ALKOHOL 1000 ML  ETL3B    7    BTL\n",
       "4  A000016     ALLOPURINOL 300   RAK2   40  STRIP"
      ]
     },
     "execution_count": 19,
     "metadata": {},
     "output_type": "execute_result"
    }
   ],
   "source": [
    "df_stok.head(5)"
   ]
  },
  {
   "cell_type": "code",
   "execution_count": 20,
   "metadata": {},
   "outputs": [
    {
     "name": "stdout",
     "output_type": "stream",
     "text": [
      "<class 'pandas.core.frame.DataFrame'>\n",
      "RangeIndex: 138364 entries, 0 to 138363\n",
      "Data columns (total 8 columns):\n",
      " #   Column          Non-Null Count   Dtype \n",
      "---  ------          --------------   ----- \n",
      " 0   kode            138364 non-null  object\n",
      " 1   nama product    138364 non-null  object\n",
      " 2   unit            138364 non-null  object\n",
      " 3   tgl transaksi   138364 non-null  object\n",
      " 4   kode transaksi  138364 non-null  object\n",
      " 5   kategori        138364 non-null  object\n",
      " 6   qty             138364 non-null  object\n",
      " 7   nilai           138364 non-null  object\n",
      "dtypes: object(8)\n",
      "memory usage: 8.4+ MB\n"
     ]
    }
   ],
   "source": [
    "df_transaksi.info()"
   ]
  },
  {
   "cell_type": "code",
   "execution_count": 21,
   "metadata": {},
   "outputs": [
    {
     "name": "stdout",
     "output_type": "stream",
     "text": [
      "<class 'pandas.core.frame.DataFrame'>\n",
      "RangeIndex: 1517 entries, 0 to 1516\n",
      "Data columns (total 5 columns):\n",
      " #   Column        Non-Null Count  Dtype \n",
      "---  ------        --------------  ----- \n",
      " 0   kode          1517 non-null   object\n",
      " 1   nama product  1517 non-null   object\n",
      " 2   lokasi        1517 non-null   object\n",
      " 3   qty           1517 non-null   int64 \n",
      " 4   unit          1517 non-null   object\n",
      "dtypes: int64(1), object(4)\n",
      "memory usage: 59.4+ KB\n"
     ]
    }
   ],
   "source": [
    "df_stok.info()"
   ]
  },
  {
   "cell_type": "code",
   "execution_count": null,
   "metadata": {},
   "outputs": [],
   "source": []
  }
 ],
 "metadata": {
  "kernelspec": {
   "display_name": "myenv",
   "language": "python",
   "name": "python3"
  },
  "language_info": {
   "codemirror_mode": {
    "name": "ipython",
    "version": 3
   },
   "file_extension": ".py",
   "mimetype": "text/x-python",
   "name": "python",
   "nbconvert_exporter": "python",
   "pygments_lexer": "ipython3",
   "version": "3.10.16"
  },
  "orig_nbformat": 4
 },
 "nbformat": 4,
 "nbformat_minor": 2
}
